{
 "cells": [
  {
   "cell_type": "code",
   "execution_count": 2,
   "id": "dc318ec0",
   "metadata": {},
   "outputs": [],
   "source": [
    "import os\n",
    "import requests"
   ]
  },
  {
   "cell_type": "code",
   "execution_count": 3,
   "id": "bb6a47a8",
   "metadata": {},
   "outputs": [
    {
     "name": "stdout",
     "output_type": "stream",
     "text": [
      "[INFO ] File doesnt exist, downloading...\n",
      "[INFO] the file has been downdoladed ans saved as human-nutrition-text.pdf\n"
     ]
    }
   ],
   "source": [
    "# get document path\n",
    "file_path = \"human-nutrition-text.pdf\"\n",
    "\n",
    "#download the pdf\n",
    "if not os.path.exists(file_path):\n",
    "    print(f\"[INFO ] File doesnt exist, downloading...\")\n",
    "\n",
    "    #enter the url of the pdf\n",
    "    url = \"https://github.com/mrdbourke/simple-local-rag/blob/main/human-nutrition-text.pdf\"\n",
    "\n",
    "\n",
    "    filename = file_path\n",
    "    response = requests.get(url)\n",
    "\n",
    "    #check if request successful\n",
    "    if response.status_code == 200:\n",
    "        with open(filename, \"wb\") as file:\n",
    "            file.write(response.content)\n",
    "            print(f\"[INFO] the file has been downdoladed ans saved as {filename}\")\n",
    "\n",
    "    else: \n",
    "        print(f\"[INFO ] Failed to download the file. status code: {response.status_code}\")\n",
    "\n",
    "else:\n",
    "    print(f\"[INFO] file exists.\")\n",
    "\n"
   ]
  },
  {
   "cell_type": "code",
   "execution_count": null,
   "id": "8835378c",
   "metadata": {},
   "outputs": [],
   "source": []
  }
 ],
 "metadata": {
  "kernelspec": {
   "display_name": "nutrenv (3.12.3)",
   "language": "python",
   "name": "python3"
  },
  "language_info": {
   "codemirror_mode": {
    "name": "ipython",
    "version": 3
   },
   "file_extension": ".py",
   "mimetype": "text/x-python",
   "name": "python",
   "nbconvert_exporter": "python",
   "pygments_lexer": "ipython3",
   "version": "3.12.3"
  }
 },
 "nbformat": 4,
 "nbformat_minor": 5
}
